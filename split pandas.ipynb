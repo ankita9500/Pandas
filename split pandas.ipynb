{
 "cells": [
  {
   "cell_type": "code",
   "execution_count": 8,
   "id": "00fcaef9",
   "metadata": {},
   "outputs": [],
   "source": [
    "import pandas as pd"
   ]
  },
  {
   "cell_type": "code",
   "execution_count": 9,
   "id": "c89ace1b",
   "metadata": {},
   "outputs": [],
   "source": [
    "df = pd.DataFrame({'col1' :[1,3,4,2,1],\n",
    "             'co2':[35,45,56,53,67],\n",
    "             'col3':\"an kita ye ta le\".split()\n",
    "             })#convert list into dictionery "
   ]
  },
  {
   "cell_type": "code",
   "execution_count": 10,
   "id": "82753c3f",
   "metadata": {},
   "outputs": [
    {
     "data": {
      "text/plain": [
       "['ankita', 'rajendra', 'yetale']"
      ]
     },
     "execution_count": 10,
     "metadata": {},
     "output_type": "execute_result"
    }
   ],
   "source": [
    "\"ankita rajendra yetale\".split()\n",
    "       "
   ]
  },
  {
   "cell_type": "code",
   "execution_count": 11,
   "id": "8935582c",
   "metadata": {},
   "outputs": [
    {
     "data": {
      "text/html": [
       "<div>\n",
       "<style scoped>\n",
       "    .dataframe tbody tr th:only-of-type {\n",
       "        vertical-align: middle;\n",
       "    }\n",
       "\n",
       "    .dataframe tbody tr th {\n",
       "        vertical-align: top;\n",
       "    }\n",
       "\n",
       "    .dataframe thead th {\n",
       "        text-align: right;\n",
       "    }\n",
       "</style>\n",
       "<table border=\"1\" class=\"dataframe\">\n",
       "  <thead>\n",
       "    <tr style=\"text-align: right;\">\n",
       "      <th></th>\n",
       "      <th>col1</th>\n",
       "      <th>co2</th>\n",
       "      <th>col3</th>\n",
       "    </tr>\n",
       "  </thead>\n",
       "  <tbody>\n",
       "    <tr>\n",
       "      <th>0</th>\n",
       "      <td>1</td>\n",
       "      <td>35</td>\n",
       "      <td>an</td>\n",
       "    </tr>\n",
       "    <tr>\n",
       "      <th>1</th>\n",
       "      <td>3</td>\n",
       "      <td>45</td>\n",
       "      <td>kita</td>\n",
       "    </tr>\n",
       "    <tr>\n",
       "      <th>2</th>\n",
       "      <td>4</td>\n",
       "      <td>56</td>\n",
       "      <td>ye</td>\n",
       "    </tr>\n",
       "    <tr>\n",
       "      <th>3</th>\n",
       "      <td>2</td>\n",
       "      <td>53</td>\n",
       "      <td>ta</td>\n",
       "    </tr>\n",
       "    <tr>\n",
       "      <th>4</th>\n",
       "      <td>1</td>\n",
       "      <td>67</td>\n",
       "      <td>le</td>\n",
       "    </tr>\n",
       "  </tbody>\n",
       "</table>\n",
       "</div>"
      ],
      "text/plain": [
       "   col1  co2  col3\n",
       "0     1   35    an\n",
       "1     3   45  kita\n",
       "2     4   56    ye\n",
       "3     2   53    ta\n",
       "4     1   67    le"
      ]
     },
     "execution_count": 11,
     "metadata": {},
     "output_type": "execute_result"
    }
   ],
   "source": [
    "df"
   ]
  },
  {
   "cell_type": "code",
   "execution_count": 15,
   "id": "8b1747a7",
   "metadata": {},
   "outputs": [],
   "source": [
    "df['col4'] = df['col3'].str[0]"
   ]
  },
  {
   "cell_type": "code",
   "execution_count": 16,
   "id": "4535a13a",
   "metadata": {},
   "outputs": [
    {
     "data": {
      "text/html": [
       "<div>\n",
       "<style scoped>\n",
       "    .dataframe tbody tr th:only-of-type {\n",
       "        vertical-align: middle;\n",
       "    }\n",
       "\n",
       "    .dataframe tbody tr th {\n",
       "        vertical-align: top;\n",
       "    }\n",
       "\n",
       "    .dataframe thead th {\n",
       "        text-align: right;\n",
       "    }\n",
       "</style>\n",
       "<table border=\"1\" class=\"dataframe\">\n",
       "  <thead>\n",
       "    <tr style=\"text-align: right;\">\n",
       "      <th></th>\n",
       "      <th>col1</th>\n",
       "      <th>co2</th>\n",
       "      <th>col3</th>\n",
       "      <th>col5</th>\n",
       "      <th>col4</th>\n",
       "    </tr>\n",
       "  </thead>\n",
       "  <tbody>\n",
       "    <tr>\n",
       "      <th>0</th>\n",
       "      <td>1</td>\n",
       "      <td>35</td>\n",
       "      <td>an</td>\n",
       "      <td>a</td>\n",
       "      <td>a</td>\n",
       "    </tr>\n",
       "    <tr>\n",
       "      <th>1</th>\n",
       "      <td>3</td>\n",
       "      <td>45</td>\n",
       "      <td>kita</td>\n",
       "      <td>k</td>\n",
       "      <td>k</td>\n",
       "    </tr>\n",
       "    <tr>\n",
       "      <th>2</th>\n",
       "      <td>4</td>\n",
       "      <td>56</td>\n",
       "      <td>ye</td>\n",
       "      <td>y</td>\n",
       "      <td>y</td>\n",
       "    </tr>\n",
       "    <tr>\n",
       "      <th>3</th>\n",
       "      <td>2</td>\n",
       "      <td>53</td>\n",
       "      <td>ta</td>\n",
       "      <td>t</td>\n",
       "      <td>t</td>\n",
       "    </tr>\n",
       "    <tr>\n",
       "      <th>4</th>\n",
       "      <td>1</td>\n",
       "      <td>67</td>\n",
       "      <td>le</td>\n",
       "      <td>l</td>\n",
       "      <td>l</td>\n",
       "    </tr>\n",
       "  </tbody>\n",
       "</table>\n",
       "</div>"
      ],
      "text/plain": [
       "   col1  co2  col3 col5 col4\n",
       "0     1   35    an    a    a\n",
       "1     3   45  kita    k    k\n",
       "2     4   56    ye    y    y\n",
       "3     2   53    ta    t    t\n",
       "4     1   67    le    l    l"
      ]
     },
     "execution_count": 16,
     "metadata": {},
     "output_type": "execute_result"
    }
   ],
   "source": [
    "df"
   ]
  },
  {
   "cell_type": "code",
   "execution_count": 19,
   "id": "73123697",
   "metadata": {},
   "outputs": [],
   "source": [
    "def test(a):\n",
    "    return a**2"
   ]
  },
  {
   "cell_type": "code",
   "execution_count": 20,
   "id": "3498494d",
   "metadata": {},
   "outputs": [],
   "source": [
    "df['col4_4'] = df['col1'].apply(test)"
   ]
  },
  {
   "cell_type": "code",
   "execution_count": 21,
   "id": "8e9b7bd0",
   "metadata": {},
   "outputs": [
    {
     "data": {
      "text/html": [
       "<div>\n",
       "<style scoped>\n",
       "    .dataframe tbody tr th:only-of-type {\n",
       "        vertical-align: middle;\n",
       "    }\n",
       "\n",
       "    .dataframe tbody tr th {\n",
       "        vertical-align: top;\n",
       "    }\n",
       "\n",
       "    .dataframe thead th {\n",
       "        text-align: right;\n",
       "    }\n",
       "</style>\n",
       "<table border=\"1\" class=\"dataframe\">\n",
       "  <thead>\n",
       "    <tr style=\"text-align: right;\">\n",
       "      <th></th>\n",
       "      <th>col1</th>\n",
       "      <th>co2</th>\n",
       "      <th>col3</th>\n",
       "      <th>col5</th>\n",
       "      <th>col4</th>\n",
       "      <th>col4_4</th>\n",
       "    </tr>\n",
       "  </thead>\n",
       "  <tbody>\n",
       "    <tr>\n",
       "      <th>0</th>\n",
       "      <td>1</td>\n",
       "      <td>35</td>\n",
       "      <td>an</td>\n",
       "      <td>a</td>\n",
       "      <td>a</td>\n",
       "      <td>1</td>\n",
       "    </tr>\n",
       "    <tr>\n",
       "      <th>1</th>\n",
       "      <td>3</td>\n",
       "      <td>45</td>\n",
       "      <td>kita</td>\n",
       "      <td>k</td>\n",
       "      <td>k</td>\n",
       "      <td>9</td>\n",
       "    </tr>\n",
       "    <tr>\n",
       "      <th>2</th>\n",
       "      <td>4</td>\n",
       "      <td>56</td>\n",
       "      <td>ye</td>\n",
       "      <td>y</td>\n",
       "      <td>y</td>\n",
       "      <td>16</td>\n",
       "    </tr>\n",
       "    <tr>\n",
       "      <th>3</th>\n",
       "      <td>2</td>\n",
       "      <td>53</td>\n",
       "      <td>ta</td>\n",
       "      <td>t</td>\n",
       "      <td>t</td>\n",
       "      <td>4</td>\n",
       "    </tr>\n",
       "    <tr>\n",
       "      <th>4</th>\n",
       "      <td>1</td>\n",
       "      <td>67</td>\n",
       "      <td>le</td>\n",
       "      <td>l</td>\n",
       "      <td>l</td>\n",
       "      <td>1</td>\n",
       "    </tr>\n",
       "  </tbody>\n",
       "</table>\n",
       "</div>"
      ],
      "text/plain": [
       "   col1  co2  col3 col5 col4  col4_4\n",
       "0     1   35    an    a    a       1\n",
       "1     3   45  kita    k    k       9\n",
       "2     4   56    ye    y    y      16\n",
       "3     2   53    ta    t    t       4\n",
       "4     1   67    le    l    l       1"
      ]
     },
     "execution_count": 21,
     "metadata": {},
     "output_type": "execute_result"
    }
   ],
   "source": [
    "df"
   ]
  },
  {
   "cell_type": "code",
   "execution_count": 22,
   "id": "fee85d75",
   "metadata": {},
   "outputs": [],
   "source": [
    "#deriverd column for calculation"
   ]
  },
  {
   "cell_type": "code",
   "execution_count": 23,
   "id": "cd37cb63",
   "metadata": {},
   "outputs": [],
   "source": [
    "def test1(a):\n",
    "    if a =='s':\n",
    "        return 's'\n",
    "    else:\n",
    "        return 'z'"
   ]
  },
  {
   "cell_type": "code",
   "execution_count": 25,
   "id": "7dfad62e",
   "metadata": {},
   "outputs": [],
   "source": [
    "df['col6'] =df['col5'].apply(test1)"
   ]
  },
  {
   "cell_type": "code",
   "execution_count": 26,
   "id": "cbf3db97",
   "metadata": {},
   "outputs": [
    {
     "data": {
      "text/html": [
       "<div>\n",
       "<style scoped>\n",
       "    .dataframe tbody tr th:only-of-type {\n",
       "        vertical-align: middle;\n",
       "    }\n",
       "\n",
       "    .dataframe tbody tr th {\n",
       "        vertical-align: top;\n",
       "    }\n",
       "\n",
       "    .dataframe thead th {\n",
       "        text-align: right;\n",
       "    }\n",
       "</style>\n",
       "<table border=\"1\" class=\"dataframe\">\n",
       "  <thead>\n",
       "    <tr style=\"text-align: right;\">\n",
       "      <th></th>\n",
       "      <th>col1</th>\n",
       "      <th>co2</th>\n",
       "      <th>col3</th>\n",
       "      <th>col5</th>\n",
       "      <th>col4</th>\n",
       "      <th>col4_4</th>\n",
       "      <th>col6</th>\n",
       "    </tr>\n",
       "  </thead>\n",
       "  <tbody>\n",
       "    <tr>\n",
       "      <th>0</th>\n",
       "      <td>1</td>\n",
       "      <td>35</td>\n",
       "      <td>an</td>\n",
       "      <td>a</td>\n",
       "      <td>a</td>\n",
       "      <td>1</td>\n",
       "      <td>z</td>\n",
       "    </tr>\n",
       "    <tr>\n",
       "      <th>1</th>\n",
       "      <td>3</td>\n",
       "      <td>45</td>\n",
       "      <td>kita</td>\n",
       "      <td>k</td>\n",
       "      <td>k</td>\n",
       "      <td>9</td>\n",
       "      <td>z</td>\n",
       "    </tr>\n",
       "    <tr>\n",
       "      <th>2</th>\n",
       "      <td>4</td>\n",
       "      <td>56</td>\n",
       "      <td>ye</td>\n",
       "      <td>y</td>\n",
       "      <td>y</td>\n",
       "      <td>16</td>\n",
       "      <td>z</td>\n",
       "    </tr>\n",
       "    <tr>\n",
       "      <th>3</th>\n",
       "      <td>2</td>\n",
       "      <td>53</td>\n",
       "      <td>ta</td>\n",
       "      <td>t</td>\n",
       "      <td>t</td>\n",
       "      <td>4</td>\n",
       "      <td>z</td>\n",
       "    </tr>\n",
       "    <tr>\n",
       "      <th>4</th>\n",
       "      <td>1</td>\n",
       "      <td>67</td>\n",
       "      <td>le</td>\n",
       "      <td>l</td>\n",
       "      <td>l</td>\n",
       "      <td>1</td>\n",
       "      <td>z</td>\n",
       "    </tr>\n",
       "  </tbody>\n",
       "</table>\n",
       "</div>"
      ],
      "text/plain": [
       "   col1  co2  col3 col5 col4  col4_4 col6\n",
       "0     1   35    an    a    a       1    z\n",
       "1     3   45  kita    k    k       9    z\n",
       "2     4   56    ye    y    y      16    z\n",
       "3     2   53    ta    t    t       4    z\n",
       "4     1   67    le    l    l       1    z"
      ]
     },
     "execution_count": 26,
     "metadata": {},
     "output_type": "execute_result"
    }
   ],
   "source": [
    "df"
   ]
  },
  {
   "cell_type": "code",
   "execution_count": 27,
   "id": "c1ae657f",
   "metadata": {},
   "outputs": [],
   "source": [
    "df['col6_6'] =df['col5'].apply(lambda a :'s' if a == 's' else 'z')"
   ]
  },
  {
   "cell_type": "code",
   "execution_count": 28,
   "id": "80bb327f",
   "metadata": {},
   "outputs": [
    {
     "data": {
      "text/html": [
       "<div>\n",
       "<style scoped>\n",
       "    .dataframe tbody tr th:only-of-type {\n",
       "        vertical-align: middle;\n",
       "    }\n",
       "\n",
       "    .dataframe tbody tr th {\n",
       "        vertical-align: top;\n",
       "    }\n",
       "\n",
       "    .dataframe thead th {\n",
       "        text-align: right;\n",
       "    }\n",
       "</style>\n",
       "<table border=\"1\" class=\"dataframe\">\n",
       "  <thead>\n",
       "    <tr style=\"text-align: right;\">\n",
       "      <th></th>\n",
       "      <th>col1</th>\n",
       "      <th>co2</th>\n",
       "      <th>col3</th>\n",
       "      <th>col5</th>\n",
       "      <th>col4</th>\n",
       "      <th>col4_4</th>\n",
       "      <th>col6</th>\n",
       "      <th>col6_6</th>\n",
       "    </tr>\n",
       "  </thead>\n",
       "  <tbody>\n",
       "    <tr>\n",
       "      <th>0</th>\n",
       "      <td>1</td>\n",
       "      <td>35</td>\n",
       "      <td>an</td>\n",
       "      <td>a</td>\n",
       "      <td>a</td>\n",
       "      <td>1</td>\n",
       "      <td>z</td>\n",
       "      <td>z</td>\n",
       "    </tr>\n",
       "    <tr>\n",
       "      <th>1</th>\n",
       "      <td>3</td>\n",
       "      <td>45</td>\n",
       "      <td>kita</td>\n",
       "      <td>k</td>\n",
       "      <td>k</td>\n",
       "      <td>9</td>\n",
       "      <td>z</td>\n",
       "      <td>z</td>\n",
       "    </tr>\n",
       "    <tr>\n",
       "      <th>2</th>\n",
       "      <td>4</td>\n",
       "      <td>56</td>\n",
       "      <td>ye</td>\n",
       "      <td>y</td>\n",
       "      <td>y</td>\n",
       "      <td>16</td>\n",
       "      <td>z</td>\n",
       "      <td>z</td>\n",
       "    </tr>\n",
       "    <tr>\n",
       "      <th>3</th>\n",
       "      <td>2</td>\n",
       "      <td>53</td>\n",
       "      <td>ta</td>\n",
       "      <td>t</td>\n",
       "      <td>t</td>\n",
       "      <td>4</td>\n",
       "      <td>z</td>\n",
       "      <td>z</td>\n",
       "    </tr>\n",
       "    <tr>\n",
       "      <th>4</th>\n",
       "      <td>1</td>\n",
       "      <td>67</td>\n",
       "      <td>le</td>\n",
       "      <td>l</td>\n",
       "      <td>l</td>\n",
       "      <td>1</td>\n",
       "      <td>z</td>\n",
       "      <td>z</td>\n",
       "    </tr>\n",
       "  </tbody>\n",
       "</table>\n",
       "</div>"
      ],
      "text/plain": [
       "   col1  co2  col3 col5 col4  col4_4 col6 col6_6\n",
       "0     1   35    an    a    a       1    z      z\n",
       "1     3   45  kita    k    k       9    z      z\n",
       "2     4   56    ye    y    y      16    z      z\n",
       "3     2   53    ta    t    t       4    z      z\n",
       "4     1   67    le    l    l       1    z      z"
      ]
     },
     "execution_count": 28,
     "metadata": {},
     "output_type": "execute_result"
    }
   ],
   "source": [
    "df"
   ]
  },
  {
   "cell_type": "code",
   "execution_count": 29,
   "id": "c46a2cd1",
   "metadata": {},
   "outputs": [],
   "source": [
    "df['col7'] = df['col3'].apply(len)"
   ]
  },
  {
   "cell_type": "code",
   "execution_count": 30,
   "id": "23781c4a",
   "metadata": {},
   "outputs": [
    {
     "data": {
      "text/html": [
       "<div>\n",
       "<style scoped>\n",
       "    .dataframe tbody tr th:only-of-type {\n",
       "        vertical-align: middle;\n",
       "    }\n",
       "\n",
       "    .dataframe tbody tr th {\n",
       "        vertical-align: top;\n",
       "    }\n",
       "\n",
       "    .dataframe thead th {\n",
       "        text-align: right;\n",
       "    }\n",
       "</style>\n",
       "<table border=\"1\" class=\"dataframe\">\n",
       "  <thead>\n",
       "    <tr style=\"text-align: right;\">\n",
       "      <th></th>\n",
       "      <th>col1</th>\n",
       "      <th>co2</th>\n",
       "      <th>col3</th>\n",
       "      <th>col5</th>\n",
       "      <th>col4</th>\n",
       "      <th>col4_4</th>\n",
       "      <th>col6</th>\n",
       "      <th>col6_6</th>\n",
       "      <th>col7</th>\n",
       "    </tr>\n",
       "  </thead>\n",
       "  <tbody>\n",
       "    <tr>\n",
       "      <th>0</th>\n",
       "      <td>1</td>\n",
       "      <td>35</td>\n",
       "      <td>an</td>\n",
       "      <td>a</td>\n",
       "      <td>a</td>\n",
       "      <td>1</td>\n",
       "      <td>z</td>\n",
       "      <td>z</td>\n",
       "      <td>2</td>\n",
       "    </tr>\n",
       "    <tr>\n",
       "      <th>1</th>\n",
       "      <td>3</td>\n",
       "      <td>45</td>\n",
       "      <td>kita</td>\n",
       "      <td>k</td>\n",
       "      <td>k</td>\n",
       "      <td>9</td>\n",
       "      <td>z</td>\n",
       "      <td>z</td>\n",
       "      <td>4</td>\n",
       "    </tr>\n",
       "    <tr>\n",
       "      <th>2</th>\n",
       "      <td>4</td>\n",
       "      <td>56</td>\n",
       "      <td>ye</td>\n",
       "      <td>y</td>\n",
       "      <td>y</td>\n",
       "      <td>16</td>\n",
       "      <td>z</td>\n",
       "      <td>z</td>\n",
       "      <td>2</td>\n",
       "    </tr>\n",
       "    <tr>\n",
       "      <th>3</th>\n",
       "      <td>2</td>\n",
       "      <td>53</td>\n",
       "      <td>ta</td>\n",
       "      <td>t</td>\n",
       "      <td>t</td>\n",
       "      <td>4</td>\n",
       "      <td>z</td>\n",
       "      <td>z</td>\n",
       "      <td>2</td>\n",
       "    </tr>\n",
       "    <tr>\n",
       "      <th>4</th>\n",
       "      <td>1</td>\n",
       "      <td>67</td>\n",
       "      <td>le</td>\n",
       "      <td>l</td>\n",
       "      <td>l</td>\n",
       "      <td>1</td>\n",
       "      <td>z</td>\n",
       "      <td>z</td>\n",
       "      <td>2</td>\n",
       "    </tr>\n",
       "  </tbody>\n",
       "</table>\n",
       "</div>"
      ],
      "text/plain": [
       "   col1  co2  col3 col5 col4  col4_4 col6 col6_6  col7\n",
       "0     1   35    an    a    a       1    z      z     2\n",
       "1     3   45  kita    k    k       9    z      z     4\n",
       "2     4   56    ye    y    y      16    z      z     2\n",
       "3     2   53    ta    t    t       4    z      z     2\n",
       "4     1   67    le    l    l       1    z      z     2"
      ]
     },
     "execution_count": 30,
     "metadata": {},
     "output_type": "execute_result"
    }
   ],
   "source": [
    "df"
   ]
  },
  {
   "cell_type": "code",
   "execution_count": 31,
   "id": "c547bd22",
   "metadata": {},
   "outputs": [],
   "source": [
    "import math"
   ]
  },
  {
   "cell_type": "code",
   "execution_count": 33,
   "id": "9dae76ab",
   "metadata": {},
   "outputs": [],
   "source": [
    "df['col8'] = df['co2'].apply(math.log)"
   ]
  },
  {
   "cell_type": "code",
   "execution_count": 34,
   "id": "013a28e3",
   "metadata": {},
   "outputs": [
    {
     "data": {
      "text/html": [
       "<div>\n",
       "<style scoped>\n",
       "    .dataframe tbody tr th:only-of-type {\n",
       "        vertical-align: middle;\n",
       "    }\n",
       "\n",
       "    .dataframe tbody tr th {\n",
       "        vertical-align: top;\n",
       "    }\n",
       "\n",
       "    .dataframe thead th {\n",
       "        text-align: right;\n",
       "    }\n",
       "</style>\n",
       "<table border=\"1\" class=\"dataframe\">\n",
       "  <thead>\n",
       "    <tr style=\"text-align: right;\">\n",
       "      <th></th>\n",
       "      <th>col1</th>\n",
       "      <th>co2</th>\n",
       "      <th>col3</th>\n",
       "      <th>col5</th>\n",
       "      <th>col4</th>\n",
       "      <th>col4_4</th>\n",
       "      <th>col6</th>\n",
       "      <th>col6_6</th>\n",
       "      <th>col7</th>\n",
       "      <th>col8</th>\n",
       "    </tr>\n",
       "  </thead>\n",
       "  <tbody>\n",
       "    <tr>\n",
       "      <th>0</th>\n",
       "      <td>1</td>\n",
       "      <td>35</td>\n",
       "      <td>an</td>\n",
       "      <td>a</td>\n",
       "      <td>a</td>\n",
       "      <td>1</td>\n",
       "      <td>z</td>\n",
       "      <td>z</td>\n",
       "      <td>2</td>\n",
       "      <td>3.555348</td>\n",
       "    </tr>\n",
       "    <tr>\n",
       "      <th>1</th>\n",
       "      <td>3</td>\n",
       "      <td>45</td>\n",
       "      <td>kita</td>\n",
       "      <td>k</td>\n",
       "      <td>k</td>\n",
       "      <td>9</td>\n",
       "      <td>z</td>\n",
       "      <td>z</td>\n",
       "      <td>4</td>\n",
       "      <td>3.806662</td>\n",
       "    </tr>\n",
       "    <tr>\n",
       "      <th>2</th>\n",
       "      <td>4</td>\n",
       "      <td>56</td>\n",
       "      <td>ye</td>\n",
       "      <td>y</td>\n",
       "      <td>y</td>\n",
       "      <td>16</td>\n",
       "      <td>z</td>\n",
       "      <td>z</td>\n",
       "      <td>2</td>\n",
       "      <td>4.025352</td>\n",
       "    </tr>\n",
       "    <tr>\n",
       "      <th>3</th>\n",
       "      <td>2</td>\n",
       "      <td>53</td>\n",
       "      <td>ta</td>\n",
       "      <td>t</td>\n",
       "      <td>t</td>\n",
       "      <td>4</td>\n",
       "      <td>z</td>\n",
       "      <td>z</td>\n",
       "      <td>2</td>\n",
       "      <td>3.970292</td>\n",
       "    </tr>\n",
       "    <tr>\n",
       "      <th>4</th>\n",
       "      <td>1</td>\n",
       "      <td>67</td>\n",
       "      <td>le</td>\n",
       "      <td>l</td>\n",
       "      <td>l</td>\n",
       "      <td>1</td>\n",
       "      <td>z</td>\n",
       "      <td>z</td>\n",
       "      <td>2</td>\n",
       "      <td>4.204693</td>\n",
       "    </tr>\n",
       "  </tbody>\n",
       "</table>\n",
       "</div>"
      ],
      "text/plain": [
       "   col1  co2  col3 col5 col4  col4_4 col6 col6_6  col7      col8\n",
       "0     1   35    an    a    a       1    z      z     2  3.555348\n",
       "1     3   45  kita    k    k       9    z      z     4  3.806662\n",
       "2     4   56    ye    y    y      16    z      z     2  4.025352\n",
       "3     2   53    ta    t    t       4    z      z     2  3.970292\n",
       "4     1   67    le    l    l       1    z      z     2  4.204693"
      ]
     },
     "execution_count": 34,
     "metadata": {},
     "output_type": "execute_result"
    }
   ],
   "source": [
    "df"
   ]
  },
  {
   "cell_type": "code",
   "execution_count": 35,
   "id": "edaba253",
   "metadata": {},
   "outputs": [],
   "source": [
    "#numpy = numerical python\n",
    "import numpy as np"
   ]
  },
  {
   "cell_type": "code",
   "execution_count": 36,
   "id": "ce492a5a",
   "metadata": {},
   "outputs": [],
   "source": [
    "l = ['ank',2,3,45,6]"
   ]
  },
  {
   "cell_type": "code",
   "execution_count": 38,
   "id": "da435b7a",
   "metadata": {},
   "outputs": [
    {
     "data": {
      "text/plain": [
       "list"
      ]
     },
     "execution_count": 38,
     "metadata": {},
     "output_type": "execute_result"
    }
   ],
   "source": [
    "type(l)"
   ]
  },
  {
   "cell_type": "code",
   "execution_count": 39,
   "id": "2c35ac9f",
   "metadata": {},
   "outputs": [
    {
     "data": {
      "text/plain": [
       "array(['ank', '2', '3', '45', '6'], dtype='<U11')"
      ]
     },
     "execution_count": 39,
     "metadata": {},
     "output_type": "execute_result"
    }
   ],
   "source": [
    "np.array(l)"
   ]
  },
  {
   "cell_type": "code",
   "execution_count": 40,
   "id": "939aae4a",
   "metadata": {},
   "outputs": [
    {
     "data": {
      "text/plain": [
       "array([4, 5, 6, 7, 2, 2])"
      ]
     },
     "execution_count": 40,
     "metadata": {},
     "output_type": "execute_result"
    }
   ],
   "source": [
    "np.array([4,5,6,7,2,2])"
   ]
  },
  {
   "cell_type": "code",
   "execution_count": 41,
   "id": "3bba14a8",
   "metadata": {},
   "outputs": [
    {
     "data": {
      "text/plain": [
       "array([[23, 45],\n",
       "       [20, 95]])"
      ]
     },
     "execution_count": 41,
     "metadata": {},
     "output_type": "execute_result"
    }
   ],
   "source": [
    "np.array([[23,45] , [20,95]])"
   ]
  },
  {
   "cell_type": "code",
   "execution_count": 49,
   "id": "70d90df4",
   "metadata": {},
   "outputs": [],
   "source": [
    "a2 = np.array([1,2,3,4],ndmin = 4)"
   ]
  },
  {
   "cell_type": "code",
   "execution_count": 50,
   "id": "0bd5c4db",
   "metadata": {},
   "outputs": [
    {
     "data": {
      "text/plain": [
       "array([[[1, 2, 3, 4]]])"
      ]
     },
     "execution_count": 50,
     "metadata": {},
     "output_type": "execute_result"
    }
   ],
   "source": [
    "a2[0]"
   ]
  },
  {
   "cell_type": "code",
   "execution_count": 51,
   "id": "c62a1a60",
   "metadata": {},
   "outputs": [
    {
     "data": {
      "text/plain": [
       "1"
      ]
     },
     "execution_count": 51,
     "metadata": {},
     "output_type": "execute_result"
    }
   ],
   "source": [
    "a2[0][0][0][0]"
   ]
  },
  {
   "cell_type": "code",
   "execution_count": 54,
   "id": "51125f94",
   "metadata": {},
   "outputs": [
    {
     "data": {
      "text/plain": [
       "array([2, 3, 4, 2])"
      ]
     },
     "execution_count": 54,
     "metadata": {},
     "output_type": "execute_result"
    }
   ],
   "source": [
    "a = [2,3,4,2]\n",
    "np.asarray(a)"
   ]
  },
  {
   "cell_type": "code",
   "execution_count": 55,
   "id": "ddbcc33c",
   "metadata": {},
   "outputs": [
    {
     "data": {
      "text/plain": [
       "array([[2, 3, 4, 2]])"
      ]
     },
     "execution_count": 55,
     "metadata": {},
     "output_type": "execute_result"
    }
   ],
   "source": [
    "np.asarray(np.mat(a))"
   ]
  },
  {
   "cell_type": "code",
   "execution_count": 56,
   "id": "9210d016",
   "metadata": {},
   "outputs": [
    {
     "data": {
      "text/plain": [
       "matrix([[2, 3, 4, 2]])"
      ]
     },
     "execution_count": 56,
     "metadata": {},
     "output_type": "execute_result"
    }
   ],
   "source": [
    "np.mat(a)#matrix is subclass/part of array"
   ]
  },
  {
   "cell_type": "code",
   "execution_count": 57,
   "id": "551b3415",
   "metadata": {},
   "outputs": [],
   "source": [
    "#matrix has 2 two dimensional"
   ]
  },
  {
   "cell_type": "code",
   "execution_count": 59,
   "id": "02ac12f0",
   "metadata": {},
   "outputs": [
    {
     "data": {
      "text/plain": [
       "array([[ True, False],\n",
       "       [False,  True],\n",
       "       [False, False]])"
      ]
     },
     "execution_count": 59,
     "metadata": {},
     "output_type": "execute_result"
    }
   ],
   "source": [
    "np.fromfunction(lambda i , j: i==j, (3,2))"
   ]
  },
  {
   "cell_type": "code",
   "execution_count": 96,
   "id": "98e03ebc",
   "metadata": {},
   "outputs": [],
   "source": [
    "a = np.fromfunction(lambda i , j ,z :i*j*z , (4,3,2))"
   ]
  },
  {
   "cell_type": "code",
   "execution_count": 101,
   "id": "1f28722b",
   "metadata": {},
   "outputs": [
    {
     "data": {
      "text/plain": [
       "array([[[[[[0.]],\n",
       "\n",
       "          [[0.]],\n",
       "\n",
       "          [[0.]]]],\n",
       "\n",
       "\n",
       "\n",
       "        [[[[0.]],\n",
       "\n",
       "          [[0.]],\n",
       "\n",
       "          [[0.]]]]],\n",
       "\n",
       "\n",
       "\n",
       "\n",
       "       [[[[[0.]],\n",
       "\n",
       "          [[0.]],\n",
       "\n",
       "          [[0.]]]],\n",
       "\n",
       "\n",
       "\n",
       "        [[[[1.]],\n",
       "\n",
       "          [[0.]],\n",
       "\n",
       "          [[2.]]]]],\n",
       "\n",
       "\n",
       "\n",
       "\n",
       "       [[[[[0.]],\n",
       "\n",
       "          [[0.]],\n",
       "\n",
       "          [[0.]]]],\n",
       "\n",
       "\n",
       "\n",
       "        [[[[2.]],\n",
       "\n",
       "          [[0.]],\n",
       "\n",
       "          [[4.]]]]],\n",
       "\n",
       "\n",
       "\n",
       "\n",
       "       [[[[[0.]],\n",
       "\n",
       "          [[0.]],\n",
       "\n",
       "          [[0.]]]],\n",
       "\n",
       "\n",
       "\n",
       "        [[[[3.]],\n",
       "\n",
       "          [[0.]],\n",
       "\n",
       "          [[6.]]]]]])"
      ]
     },
     "execution_count": 101,
     "metadata": {},
     "output_type": "execute_result"
    }
   ],
   "source": [
    "a.reshape(4,2,1,3,1,1)"
   ]
  },
  {
   "cell_type": "code",
   "execution_count": 98,
   "id": "47af290d",
   "metadata": {},
   "outputs": [
    {
     "data": {
      "text/plain": [
       "array([[[0., 0.],\n",
       "        [0., 0.],\n",
       "        [0., 0.]],\n",
       "\n",
       "       [[0., 0.],\n",
       "        [0., 1.],\n",
       "        [0., 2.]],\n",
       "\n",
       "       [[0., 0.],\n",
       "        [0., 2.],\n",
       "        [0., 4.]],\n",
       "\n",
       "       [[0., 0.],\n",
       "        [0., 3.],\n",
       "        [0., 6.]]])"
      ]
     },
     "execution_count": 98,
     "metadata": {},
     "output_type": "execute_result"
    }
   ],
   "source": [
    "a"
   ]
  },
  {
   "cell_type": "code",
   "execution_count": 74,
   "id": "c7e2e3d0",
   "metadata": {},
   "outputs": [
    {
     "data": {
      "text/plain": [
       "27"
      ]
     },
     "execution_count": 74,
     "metadata": {},
     "output_type": "execute_result"
    }
   ],
   "source": [
    "a.size"
   ]
  },
  {
   "cell_type": "code",
   "execution_count": 77,
   "id": "e6d5ddb2",
   "metadata": {},
   "outputs": [
    {
     "data": {
      "text/plain": [
       "3"
      ]
     },
     "execution_count": 77,
     "metadata": {},
     "output_type": "execute_result"
    }
   ],
   "source": [
    "a.ndim"
   ]
  },
  {
   "cell_type": "code",
   "execution_count": 78,
   "id": "caaceb9f",
   "metadata": {},
   "outputs": [
    {
     "data": {
      "text/plain": [
       "(3, 3, 3)"
      ]
     },
     "execution_count": 78,
     "metadata": {},
     "output_type": "execute_result"
    }
   ],
   "source": [
    "a.shape#dimension"
   ]
  },
  {
   "cell_type": "code",
   "execution_count": 79,
   "id": "277692bb",
   "metadata": {},
   "outputs": [
    {
     "data": {
      "text/plain": [
       "array([[[0., 0., 0.],\n",
       "        [0., 0., 0.],\n",
       "        [0., 0., 0.]],\n",
       "\n",
       "       [[0., 0., 0.],\n",
       "        [0., 1., 2.],\n",
       "        [0., 2., 4.]],\n",
       "\n",
       "       [[0., 0., 0.],\n",
       "        [0., 2., 4.],\n",
       "        [0., 4., 8.]]])"
      ]
     },
     "execution_count": 79,
     "metadata": {},
     "output_type": "execute_result"
    }
   ],
   "source": [
    "a"
   ]
  },
  {
   "cell_type": "code",
   "execution_count": 82,
   "id": "9809ccf2",
   "metadata": {},
   "outputs": [],
   "source": [
    "#dataframe is 2D array"
   ]
  },
  {
   "cell_type": "code",
   "execution_count": 83,
   "id": "e010667e",
   "metadata": {},
   "outputs": [],
   "source": [
    "a = np.fromfunction(lambda i , j  :i*j , (3,3))"
   ]
  },
  {
   "cell_type": "code",
   "execution_count": 84,
   "id": "629fe175",
   "metadata": {},
   "outputs": [
    {
     "data": {
      "text/plain": [
       "array([[0., 0., 0.],\n",
       "       [0., 1., 2.],\n",
       "       [0., 2., 4.]])"
      ]
     },
     "execution_count": 84,
     "metadata": {},
     "output_type": "execute_result"
    }
   ],
   "source": [
    "a"
   ]
  },
  {
   "cell_type": "code",
   "execution_count": 85,
   "id": "ede499c1",
   "metadata": {},
   "outputs": [
    {
     "data": {
      "text/html": [
       "<div>\n",
       "<style scoped>\n",
       "    .dataframe tbody tr th:only-of-type {\n",
       "        vertical-align: middle;\n",
       "    }\n",
       "\n",
       "    .dataframe tbody tr th {\n",
       "        vertical-align: top;\n",
       "    }\n",
       "\n",
       "    .dataframe thead th {\n",
       "        text-align: right;\n",
       "    }\n",
       "</style>\n",
       "<table border=\"1\" class=\"dataframe\">\n",
       "  <thead>\n",
       "    <tr style=\"text-align: right;\">\n",
       "      <th></th>\n",
       "      <th>0</th>\n",
       "      <th>1</th>\n",
       "      <th>2</th>\n",
       "    </tr>\n",
       "  </thead>\n",
       "  <tbody>\n",
       "    <tr>\n",
       "      <th>0</th>\n",
       "      <td>0.0</td>\n",
       "      <td>0.0</td>\n",
       "      <td>0.0</td>\n",
       "    </tr>\n",
       "    <tr>\n",
       "      <th>1</th>\n",
       "      <td>0.0</td>\n",
       "      <td>1.0</td>\n",
       "      <td>2.0</td>\n",
       "    </tr>\n",
       "    <tr>\n",
       "      <th>2</th>\n",
       "      <td>0.0</td>\n",
       "      <td>2.0</td>\n",
       "      <td>4.0</td>\n",
       "    </tr>\n",
       "  </tbody>\n",
       "</table>\n",
       "</div>"
      ],
      "text/plain": [
       "     0    1    2\n",
       "0  0.0  0.0  0.0\n",
       "1  0.0  1.0  2.0\n",
       "2  0.0  2.0  4.0"
      ]
     },
     "execution_count": 85,
     "metadata": {},
     "output_type": "execute_result"
    }
   ],
   "source": [
    "pd.DataFrame(a)#conversion of array to dataframe"
   ]
  },
  {
   "cell_type": "code",
   "execution_count": 86,
   "id": "db1d1cb4",
   "metadata": {},
   "outputs": [
    {
     "data": {
      "text/plain": [
       "array([[2.49895268e-01, 9.14098584e-02, 6.97655809e-01, 6.68084943e-01],\n",
       "       [6.60606175e-01, 9.65841475e-03, 8.89095828e-01, 1.59259152e-01],\n",
       "       [4.80121406e-01, 5.07096813e-01, 8.73524137e-01, 9.54048265e-01],\n",
       "       [5.01123493e-01, 4.86415492e-01, 9.47237348e-02, 4.41970564e-01],\n",
       "       [8.46140030e-01, 5.49606524e-01, 6.49777473e-01, 1.67133750e-01],\n",
       "       [4.07588202e-01, 1.79280951e-01, 1.64723555e-01, 8.11615974e-01],\n",
       "       [2.19901211e-01, 3.58245695e-01, 1.26292255e-01, 6.51966503e-01],\n",
       "       [9.19019096e-01, 2.25082870e-01, 1.76893864e-01, 4.17232282e-01],\n",
       "       [6.87923838e-01, 9.79624940e-01, 3.30995358e-01, 5.26114338e-01],\n",
       "       [6.92923242e-01, 1.62661667e-01, 7.47975849e-01, 5.17875571e-01],\n",
       "       [9.32724425e-01, 3.67477544e-01, 8.74388976e-01, 4.93421847e-01],\n",
       "       [2.31955570e-01, 9.66275273e-02, 4.75779561e-01, 3.31582477e-01],\n",
       "       [4.33984937e-01, 6.70726575e-01, 2.38606780e-02, 4.27733616e-01],\n",
       "       [1.39347561e-02, 5.59548905e-01, 7.37143373e-01, 2.45055199e-01],\n",
       "       [2.32618031e-01, 9.84582040e-01, 3.53622455e-01, 8.97372922e-01],\n",
       "       [7.86256599e-01, 6.54041360e-01, 8.45572351e-01, 8.81816716e-01],\n",
       "       [9.26435691e-01, 8.25483480e-01, 8.22213376e-01, 9.75306169e-01],\n",
       "       [1.95411935e-01, 8.11515993e-01, 6.21437734e-01, 2.12860167e-01],\n",
       "       [2.08356585e-01, 8.66668664e-01, 1.53484702e-01, 5.46326438e-01],\n",
       "       [4.01135756e-01, 2.59948560e-01, 8.16537640e-01, 2.01886859e-02],\n",
       "       [8.84347896e-01, 3.22679420e-01, 8.42687921e-01, 3.70468181e-01],\n",
       "       [8.24537141e-01, 1.45755374e-01, 5.28493350e-02, 2.13773298e-01],\n",
       "       [6.43897936e-01, 5.45247994e-02, 1.36277758e-01, 4.87226561e-01],\n",
       "       [7.19432861e-01, 9.08999978e-01, 8.29113963e-01, 8.32174502e-01],\n",
       "       [3.43665357e-01, 7.33728366e-03, 2.22126725e-01, 3.86239185e-01],\n",
       "       [7.80484019e-01, 1.91255278e-01, 5.21041875e-01, 8.12381568e-01],\n",
       "       [2.75729021e-01, 3.17608835e-01, 8.81261762e-01, 3.60335799e-01],\n",
       "       [1.32995994e-01, 7.97426318e-01, 8.61323088e-01, 1.11629422e-01],\n",
       "       [2.97352193e-01, 6.47449094e-01, 2.70501215e-01, 2.42471946e-01],\n",
       "       [1.46713857e-01, 3.21503210e-01, 2.03030115e-01, 1.56191536e-01],\n",
       "       [1.70243434e-01, 3.70192191e-01, 6.80219987e-01, 6.24018185e-01],\n",
       "       [7.94396739e-04, 6.98274121e-01, 5.84241946e-02, 8.40525925e-01],\n",
       "       [1.50016723e-01, 8.71871754e-01, 4.42350215e-01, 9.02319708e-01],\n",
       "       [5.92558641e-01, 3.28061571e-01, 3.03967510e-01, 1.08095401e-01],\n",
       "       [8.13609798e-01, 7.35414892e-01, 8.29166943e-01, 3.72633916e-01],\n",
       "       [5.47224234e-01, 6.99617402e-01, 8.12027339e-02, 7.51923306e-01],\n",
       "       [1.28906820e-01, 8.83847019e-01, 7.87027904e-01, 3.53203628e-01],\n",
       "       [6.14738032e-01, 1.14602033e-01, 9.83808585e-01, 3.56329388e-01],\n",
       "       [2.77368140e-01, 6.64285711e-02, 1.38087196e-01, 9.46450817e-01],\n",
       "       [8.12362501e-02, 9.83761865e-01, 2.78133089e-01, 3.81173433e-02],\n",
       "       [2.34228834e-01, 3.94032656e-01, 1.62838215e-01, 3.88077242e-01],\n",
       "       [3.37510378e-01, 8.13858932e-01, 4.47290375e-01, 4.87824743e-01],\n",
       "       [3.48883390e-01, 7.04197543e-01, 8.66816346e-01, 1.78576223e-01],\n",
       "       [6.52518232e-01, 8.02067261e-01, 4.13912914e-01, 2.34419813e-01],\n",
       "       [9.17508579e-01, 9.25798191e-02, 5.20339765e-01, 6.86062618e-01],\n",
       "       [5.08830608e-01, 9.50530814e-01, 7.92914621e-01, 2.57010502e-01],\n",
       "       [6.89275810e-01, 9.45372383e-01, 8.35306197e-01, 4.22916127e-01],\n",
       "       [3.66394177e-01, 8.15006517e-01, 3.78824503e-01, 9.90215317e-01],\n",
       "       [7.72055144e-01, 8.03205309e-01, 4.29541612e-01, 6.49943894e-01],\n",
       "       [1.44509392e-01, 2.55027677e-01, 3.12184974e-01, 4.61481349e-01],\n",
       "       [8.52159268e-01, 5.86012407e-01, 8.36891920e-02, 5.93973068e-01],\n",
       "       [5.98519067e-01, 7.78918590e-01, 2.72194061e-01, 2.47450726e-01],\n",
       "       [5.86647287e-01, 9.79616183e-01, 8.64718529e-01, 2.89378625e-01],\n",
       "       [9.96591392e-01, 7.00157986e-01, 5.52355362e-01, 8.37700172e-01],\n",
       "       [6.10384107e-01, 8.73430844e-01, 9.92528803e-01, 6.88244239e-01],\n",
       "       [5.69288515e-01, 4.10479735e-01, 2.15668981e-01, 7.69882772e-01],\n",
       "       [4.17795238e-01, 2.76249828e-01, 1.19071426e-01, 8.92325467e-03],\n",
       "       [9.29664086e-01, 1.84837047e-01, 9.08675441e-01, 4.85834185e-01],\n",
       "       [3.76154745e-01, 2.04068073e-01, 8.71758819e-02, 9.31803449e-01],\n",
       "       [9.78874928e-01, 2.12332335e-02, 4.35785765e-01, 4.14656714e-01],\n",
       "       [4.67687359e-01, 9.25792377e-01, 6.44786044e-01, 7.39200919e-01],\n",
       "       [6.14216170e-01, 5.91721438e-01, 9.59351400e-01, 2.05488081e-01],\n",
       "       [2.33195037e-01, 2.68043330e-01, 7.97374813e-01, 7.93453146e-01],\n",
       "       [8.18643986e-01, 9.58024784e-02, 5.77428373e-01, 6.93607701e-01],\n",
       "       [1.24121163e-01, 7.14202501e-01, 7.38880874e-01, 2.93553632e-01],\n",
       "       [6.75030270e-02, 7.35335463e-01, 9.18560682e-01, 5.13205668e-01],\n",
       "       [4.67487424e-01, 6.86920316e-01, 9.24344741e-01, 4.89802277e-02],\n",
       "       [4.53454276e-01, 2.36450199e-01, 7.20807135e-01, 9.87637128e-01],\n",
       "       [3.28505402e-01, 6.52258007e-01, 2.82325814e-01, 1.23181109e-01],\n",
       "       [6.61893211e-01, 9.48511087e-02, 6.25783442e-03, 4.33727980e-01],\n",
       "       [1.21899963e-01, 8.45245446e-01, 7.56774520e-01, 6.26666799e-01],\n",
       "       [5.31595152e-01, 7.58006347e-02, 7.75482976e-01, 3.69886269e-01],\n",
       "       [9.97604474e-01, 7.51252971e-01, 8.94041324e-01, 7.93551435e-01],\n",
       "       [8.98937296e-01, 6.94763467e-01, 7.65112566e-01, 7.00318237e-03],\n",
       "       [8.43732716e-01, 4.73711309e-01, 3.66391815e-01, 9.76949822e-01],\n",
       "       [1.22373739e-02, 3.06473308e-02, 9.63869849e-01, 2.72113723e-01],\n",
       "       [4.61488533e-01, 2.73580136e-01, 6.29204131e-01, 7.13802995e-02],\n",
       "       [1.54000572e-01, 2.57455738e-01, 5.16931520e-01, 1.98819791e-01],\n",
       "       [8.39776591e-01, 4.57688221e-01, 2.31421456e-01, 8.76562517e-01],\n",
       "       [2.78253342e-01, 9.20088188e-01, 8.30606645e-02, 5.62933016e-01],\n",
       "       [1.10387530e-01, 4.65141913e-01, 1.55668433e-02, 4.17545318e-01],\n",
       "       [8.13324979e-01, 8.28282263e-01, 9.87645671e-01, 9.04135690e-01],\n",
       "       [4.40698796e-01, 1.32853256e-01, 8.43900148e-01, 5.60386766e-01],\n",
       "       [7.80422406e-01, 9.42133073e-01, 1.71708779e-01, 6.57086515e-01],\n",
       "       [8.55932849e-02, 3.86096525e-02, 9.07701710e-01, 4.53179853e-01],\n",
       "       [4.63079761e-01, 1.97659475e-01, 6.48899871e-01, 2.80768661e-01],\n",
       "       [8.18322691e-01, 7.32933898e-02, 1.71416439e-01, 5.88999956e-01],\n",
       "       [9.20804454e-01, 8.06785264e-01, 1.41811762e-01, 8.08880568e-01],\n",
       "       [8.52720774e-01, 2.39436891e-01, 2.73579164e-01, 6.49862673e-01],\n",
       "       [2.90080141e-01, 2.81389566e-01, 6.30603035e-01, 8.32692759e-01],\n",
       "       [3.31113658e-01, 9.80898503e-01, 1.42933238e-01, 7.35296735e-01],\n",
       "       [1.03726729e-01, 4.33046277e-01, 5.29868292e-02, 2.50667040e-01],\n",
       "       [2.43281255e-01, 8.86963274e-01, 7.24073067e-01, 2.03346112e-01],\n",
       "       [5.90983410e-01, 6.19931508e-01, 3.47072692e-01, 6.73827362e-01],\n",
       "       [1.89807751e-01, 6.26131862e-01, 9.72364338e-01, 9.10595088e-01],\n",
       "       [1.03486298e-01, 6.79926948e-01, 2.15526855e-01, 9.86145294e-01],\n",
       "       [7.61480027e-01, 3.86904293e-02, 9.14766298e-01, 5.88630462e-01],\n",
       "       [2.00819319e-01, 3.11620572e-01, 4.94571173e-01, 8.62210709e-01],\n",
       "       [6.69459545e-01, 9.69840917e-01, 3.46389128e-01, 3.09823641e-01],\n",
       "       [3.53978844e-01, 6.30720775e-02, 7.17965190e-01, 4.48311045e-01]])"
      ]
     },
     "execution_count": 86,
     "metadata": {},
     "output_type": "execute_result"
    }
   ],
   "source": [
    "np.random.rand(100,4)#generate values"
   ]
  },
  {
   "cell_type": "code",
   "execution_count": 87,
   "id": "362b7684",
   "metadata": {},
   "outputs": [
    {
     "data": {
      "text/plain": [
       "24"
      ]
     },
     "execution_count": 87,
     "metadata": {},
     "output_type": "execute_result"
    }
   ],
   "source": [
    "np.random.randint(4,50)#generate random integer"
   ]
  },
  {
   "cell_type": "code",
   "execution_count": 89,
   "id": "78b541d3",
   "metadata": {},
   "outputs": [
    {
     "data": {
      "text/plain": [
       "array([[ 0.47121529, -0.78033161, -1.25525642, -0.82620756, -0.00622823],\n",
       "       [-0.21369689, -2.09915057, -0.55809141,  1.74863175,  0.46389545],\n",
       "       [-1.08067166, -0.06075127, -0.58661147,  0.8195441 ,  0.06787968],\n",
       "       [ 0.57721167, -0.0216094 , -0.42009396, -0.02980717,  0.31384526]])"
      ]
     },
     "execution_count": 89,
     "metadata": {},
     "output_type": "execute_result"
    }
   ],
   "source": [
    "np.random.randn(4,5)#generate normally distrubuted no"
   ]
  },
  {
   "cell_type": "code",
   "execution_count": 90,
   "id": "423d8a87",
   "metadata": {},
   "outputs": [
    {
     "data": {
      "text/html": [
       "<div>\n",
       "<style scoped>\n",
       "    .dataframe tbody tr th:only-of-type {\n",
       "        vertical-align: middle;\n",
       "    }\n",
       "\n",
       "    .dataframe tbody tr th {\n",
       "        vertical-align: top;\n",
       "    }\n",
       "\n",
       "    .dataframe thead th {\n",
       "        text-align: right;\n",
       "    }\n",
       "</style>\n",
       "<table border=\"1\" class=\"dataframe\">\n",
       "  <thead>\n",
       "    <tr style=\"text-align: right;\">\n",
       "      <th></th>\n",
       "      <th>0</th>\n",
       "      <th>1</th>\n",
       "      <th>2</th>\n",
       "      <th>3</th>\n",
       "      <th>4</th>\n",
       "    </tr>\n",
       "  </thead>\n",
       "  <tbody>\n",
       "    <tr>\n",
       "      <th>0</th>\n",
       "      <td>-1.267641</td>\n",
       "      <td>0.136102</td>\n",
       "      <td>-0.781376</td>\n",
       "      <td>0.510202</td>\n",
       "      <td>-0.384349</td>\n",
       "    </tr>\n",
       "    <tr>\n",
       "      <th>1</th>\n",
       "      <td>-0.238171</td>\n",
       "      <td>-0.149251</td>\n",
       "      <td>2.267314</td>\n",
       "      <td>0.808744</td>\n",
       "      <td>1.646431</td>\n",
       "    </tr>\n",
       "    <tr>\n",
       "      <th>2</th>\n",
       "      <td>1.464876</td>\n",
       "      <td>-0.285174</td>\n",
       "      <td>-0.325374</td>\n",
       "      <td>-1.161804</td>\n",
       "      <td>0.514639</td>\n",
       "    </tr>\n",
       "    <tr>\n",
       "      <th>3</th>\n",
       "      <td>-0.386697</td>\n",
       "      <td>0.039259</td>\n",
       "      <td>-0.368903</td>\n",
       "      <td>1.275318</td>\n",
       "      <td>-1.112397</td>\n",
       "    </tr>\n",
       "  </tbody>\n",
       "</table>\n",
       "</div>"
      ],
      "text/plain": [
       "          0         1         2         3         4\n",
       "0 -1.267641  0.136102 -0.781376  0.510202 -0.384349\n",
       "1 -0.238171 -0.149251  2.267314  0.808744  1.646431\n",
       "2  1.464876 -0.285174 -0.325374 -1.161804  0.514639\n",
       "3 -0.386697  0.039259 -0.368903  1.275318 -1.112397"
      ]
     },
     "execution_count": 90,
     "metadata": {},
     "output_type": "execute_result"
    }
   ],
   "source": [
    "pd.DataFrame(np.random.randn(4,5))"
   ]
  },
  {
   "cell_type": "code",
   "execution_count": 104,
   "id": "e878cb5d",
   "metadata": {},
   "outputs": [
    {
     "data": {
      "text/plain": [
       "[3, 5, 7]"
      ]
     },
     "execution_count": 104,
     "metadata": {},
     "output_type": "execute_result"
    }
   ],
   "source": [
    "list(range(3,9,2))#jump of two"
   ]
  },
  {
   "cell_type": "code",
   "execution_count": 108,
   "id": "2d4a2cc5",
   "metadata": {},
   "outputs": [
    {
     "data": {
      "text/plain": [
       "array([4. , 4.2, 4.4, 4.6, 4.8, 5. , 5.2, 5.4, 5.6, 5.8, 6. , 6.2, 6.4,\n",
       "       6.6, 6.8, 7. , 7.2, 7.4, 7.6, 7.8, 8. , 8.2, 8.4, 8.6, 8.8, 9. ,\n",
       "       9.2, 9.4, 9.6, 9.8])"
      ]
     },
     "execution_count": 108,
     "metadata": {},
     "output_type": "execute_result"
    }
   ],
   "source": [
    "np.arange(4,10,.2)#floating step size"
   ]
  },
  {
   "cell_type": "code",
   "execution_count": 109,
   "id": "adba80cd",
   "metadata": {},
   "outputs": [],
   "source": [
    "a1=np.arange(4,10,.2)"
   ]
  },
  {
   "cell_type": "code",
   "execution_count": 110,
   "id": "ce414523",
   "metadata": {},
   "outputs": [
    {
     "data": {
      "text/plain": [
       "array([4. , 4.2, 4.4, 4.6, 4.8, 5. , 5.2, 5.4, 5.6, 5.8, 6. , 6.2, 6.4,\n",
       "       6.6, 6.8, 7. , 7.2, 7.4, 7.6, 7.8, 8. , 8.2, 8.4, 8.6, 8.8, 9. ,\n",
       "       9.2, 9.4, 9.6, 9.8])"
      ]
     },
     "execution_count": 110,
     "metadata": {},
     "output_type": "execute_result"
    }
   ],
   "source": [
    "a1"
   ]
  },
  {
   "cell_type": "code",
   "execution_count": 111,
   "id": "6ad93903",
   "metadata": {},
   "outputs": [
    {
     "data": {
      "text/plain": [
       "array([4.2, 4.4, 4.6])"
      ]
     },
     "execution_count": 111,
     "metadata": {},
     "output_type": "execute_result"
    }
   ],
   "source": [
    "a1[1:4]"
   ]
  },
  {
   "cell_type": "code",
   "execution_count": 112,
   "id": "abf20446",
   "metadata": {},
   "outputs": [],
   "source": [
    "arr = np.random.rand(4,5)"
   ]
  },
  {
   "cell_type": "code",
   "execution_count": 113,
   "id": "4c903eab",
   "metadata": {},
   "outputs": [
    {
     "data": {
      "text/plain": [
       "array([[0.99229034, 0.99314422, 0.01615252, 0.53067454, 0.25756292],\n",
       "       [0.14356779, 0.02306573, 0.15448119, 0.68484343, 0.81745132],\n",
       "       [0.88876103, 0.44841474, 0.40646649, 0.87456465, 0.86759028],\n",
       "       [0.18988509, 0.66782184, 0.30321769, 0.64850889, 0.89819805]])"
      ]
     },
     "execution_count": 113,
     "metadata": {},
     "output_type": "execute_result"
    }
   ],
   "source": [
    "arr"
   ]
  },
  {
   "cell_type": "code",
   "execution_count": 114,
   "id": "d270c1a5",
   "metadata": {},
   "outputs": [
    {
     "data": {
      "text/plain": [
       "array([0.99229034, 0.99314422, 0.53067454, 0.68484343, 0.81745132,\n",
       "       0.88876103, 0.87456465, 0.86759028, 0.66782184, 0.64850889,\n",
       "       0.89819805])"
      ]
     },
     "execution_count": 114,
     "metadata": {},
     "output_type": "execute_result"
    }
   ],
   "source": [
    "arr[arr > .5]"
   ]
  },
  {
   "cell_type": "code",
   "execution_count": 115,
   "id": "ebe79010",
   "metadata": {},
   "outputs": [
    {
     "data": {
      "text/plain": [
       "array([[0.99229034, 0.99314422, 0.01615252, 0.53067454, 0.25756292],\n",
       "       [0.14356779, 0.02306573, 0.15448119, 0.68484343, 0.81745132],\n",
       "       [0.88876103, 0.44841474, 0.40646649, 0.87456465, 0.86759028],\n",
       "       [0.18988509, 0.66782184, 0.30321769, 0.64850889, 0.89819805]])"
      ]
     },
     "execution_count": 115,
     "metadata": {},
     "output_type": "execute_result"
    }
   ],
   "source": [
    "arr"
   ]
  },
  {
   "cell_type": "code",
   "execution_count": 116,
   "id": "29c75210",
   "metadata": {},
   "outputs": [
    {
     "data": {
      "text/plain": [
       "array([[0.14356779, 0.02306573, 0.15448119],\n",
       "       [0.88876103, 0.44841474, 0.40646649],\n",
       "       [0.18988509, 0.66782184, 0.30321769]])"
      ]
     },
     "execution_count": 116,
     "metadata": {},
     "output_type": "execute_result"
    }
   ],
   "source": [
    "arr[1:8 , 0:3]"
   ]
  },
  {
   "cell_type": "code",
   "execution_count": null,
   "id": "ca5818fc",
   "metadata": {},
   "outputs": [],
   "source": []
  }
 ],
 "metadata": {
  "kernelspec": {
   "display_name": "Python 3 (ipykernel)",
   "language": "python",
   "name": "python3"
  },
  "language_info": {
   "codemirror_mode": {
    "name": "ipython",
    "version": 3
   },
   "file_extension": ".py",
   "mimetype": "text/x-python",
   "name": "python",
   "nbconvert_exporter": "python",
   "pygments_lexer": "ipython3",
   "version": "3.9.13"
  }
 },
 "nbformat": 4,
 "nbformat_minor": 5
}
