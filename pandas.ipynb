{
 "cells": [
  {
   "cell_type": "code",
   "execution_count": 1,
   "id": "55855e8a",
   "metadata": {},
   "outputs": [],
   "source": [
    "import pandas as pd"
   ]
  },
  {
   "cell_type": "code",
   "execution_count": 6,
   "id": "30ecfc8a",
   "metadata": {},
   "outputs": [
    {
     "name": "stdout",
     "output_type": "stream",
     "text": [
      " Volume in drive C has no label.\n",
      " Volume Serial Number is DCAE-CE8D\n",
      "\n",
      " Directory of C:\\Users\\admin\n",
      "\n",
      "01/12/2023  11:15 PM    <DIR>          .\n",
      "01/12/2023  11:15 PM    <DIR>          ..\n",
      "11/15/2022  05:25 AM    <DIR>          .conda\n",
      "11/14/2022  08:00 AM                25 .condarc\n",
      "11/14/2022  07:59 AM    <DIR>          .continuum\n",
      "01/12/2023  11:04 PM    <DIR>          .ipynb_checkpoints\n",
      "11/14/2022  08:01 AM    <DIR>          .ipython\n",
      "11/14/2022  08:00 AM    <DIR>          .jupyter\n",
      "12/16/2022  03:56 PM    <DIR>          __pycache__\n",
      "11/08/2022  05:08 PM    <DIR>          3D Objects\n",
      "11/12/2022  05:50 PM    <DIR>          anaconda3\n",
      "12/08/2022  09:15 PM                77 Ankita.txt\n",
      "12/15/2022  12:02 AM               201 anks.log\n",
      "11/08/2022  05:08 PM    <DIR>          Contacts\n",
      "11/27/2022  10:30 AM             8,294 decorator.ipynb\n",
      "12/16/2022  03:41 PM    <DIR>          Desktop\n",
      "12/16/2022  03:45 PM    <DIR>          Documents\n",
      "01/12/2023  11:11 PM    <DIR>          Downloads\n",
      "12/14/2022  07:39 PM             7,026 exception handling.ipynb\n",
      "11/08/2022  05:08 PM    <DIR>          Favorites\n",
      "12/03/2022  01:15 AM            17,336 function.ipynb\n",
      "12/07/2022  11:54 AM            33,743 functions.ipynb\n",
      "12/08/2022  09:15 PM                 0 google.txt\n",
      "01/11/2023  01:08 PM             8,192 ineuron.db\n",
      "12/08/2022  09:41 PM         2,649,876 iterator.ipynb\n",
      "11/08/2022  05:08 PM    <DIR>          Links\n",
      "12/16/2022  09:58 PM            15,263 logging.ipynb\n",
      "11/27/2022  10:30 AM            25,173 loop,list.ipynb\n",
      "01/09/2023  08:12 PM               589 mangodb.ipynb\n",
      "01/10/2023  11:29 AM             8,903 mongodb.ipynb\n",
      "11/08/2022  05:08 PM    <DIR>          Music\n",
      "08/18/2022  02:53 PM    <DIR>          OneDrive\n",
      "01/06/2023  04:06 PM            22,744 oops.ipynb\n",
      "11/19/2022  11:37 PM            24,112 operators.ipynb\n",
      "01/12/2023  11:15 PM            13,226 pandas.ipynb\n",
      "01/11/2023  01:21 PM                 0 person.db\n",
      "12/22/2022  01:10 PM    <DIR>          Pictures\n",
      "12/16/2022  10:16 PM    <DIR>          PycharmProjects\n",
      "01/12/2023  11:13 PM               165 sample.test.csv\n",
      "11/08/2022  05:08 PM    <DIR>          Saved Games\n",
      "11/08/2022  05:08 PM    <DIR>          Searches\n",
      "01/11/2023  11:14 PM            16,290 sql lite.ipynb\n",
      "12/14/2022  11:58 PM               603 test.log\n",
      "12/14/2022  06:44 PM                15 test1.txt\n",
      "12/16/2022  03:56 PM                 0 test2.py\n",
      "11/14/2022  08:02 AM               850 this1.ipynb\n",
      "11/14/2022  04:12 PM               589 Untitled.ipynb\n",
      "11/17/2022  02:12 AM               589 Untitled1.ipynb\n",
      "12/03/2022  03:17 PM               589 Untitled10.ipynb\n",
      "12/04/2022  04:10 PM            10,135 Untitled11.ipynb\n",
      "12/08/2022  12:43 PM               606 Untitled12.ipynb\n",
      "12/09/2022  11:00 AM                72 Untitled13.ipynb\n",
      "12/10/2022  04:33 PM             2,728 Untitled14.ipynb\n",
      "12/16/2022  11:27 PM               321 Untitled15.ipynb\n",
      "01/09/2023  08:11 PM               589 Untitled16.ipynb\n",
      "01/11/2023  10:52 AM                72 Untitled17.ipynb\n",
      "01/12/2023  11:04 PM             2,645 Untitled18.ipynb\n",
      "01/12/2023  11:03 PM               724 Untitled19.ipynb\n",
      "11/18/2022  03:08 AM             3,979 Untitled2.ipynb\n",
      "11/18/2022  03:40 AM             6,599 Untitled3.ipynb\n",
      "11/19/2022  06:35 PM             9,533 Untitled4.ipynb\n",
      "11/20/2022  10:36 PM               589 Untitled5.ipynb\n",
      "11/21/2022  05:53 PM                72 Untitled6.ipynb\n",
      "11/27/2022  10:29 AM            25,173 Untitled7.ipynb\n",
      "11/27/2022  09:03 PM            14,917 Untitled8.ipynb\n",
      "11/28/2022  12:05 AM                72 Untitled9.ipynb\n",
      "11/08/2022  05:08 PM    <DIR>          Videos\n",
      "              44 File(s)      2,933,296 bytes\n",
      "              23 Dir(s)  173,369,819,136 bytes free\n"
     ]
    }
   ],
   "source": [
    "ls"
   ]
  },
  {
   "cell_type": "code",
   "execution_count": 9,
   "id": "7109a645",
   "metadata": {},
   "outputs": [
    {
     "data": {
      "text/html": [
       "<div>\n",
       "<style scoped>\n",
       "    .dataframe tbody tr th:only-of-type {\n",
       "        vertical-align: middle;\n",
       "    }\n",
       "\n",
       "    .dataframe tbody tr th {\n",
       "        vertical-align: top;\n",
       "    }\n",
       "\n",
       "    .dataframe thead th {\n",
       "        text-align: right;\n",
       "    }\n",
       "</style>\n",
       "<table border=\"1\" class=\"dataframe\">\n",
       "  <thead>\n",
       "    <tr style=\"text-align: right;\">\n",
       "      <th></th>\n",
       "      <th>name</th>\n",
       "      <th>emailid</th>\n",
       "      <th>address</th>\n",
       "      <th>pin code</th>\n",
       "      <th>surname</th>\n",
       "    </tr>\n",
       "  </thead>\n",
       "  <tbody>\n",
       "    <tr>\n",
       "      <th>0</th>\n",
       "      <td>anki</td>\n",
       "      <td>yetale@gmail.com</td>\n",
       "      <td>pune</td>\n",
       "      <td>234567</td>\n",
       "      <td>yetale</td>\n",
       "    </tr>\n",
       "    <tr>\n",
       "      <th>1</th>\n",
       "      <td>anuja</td>\n",
       "      <td>anki89@gmail.com</td>\n",
       "      <td>pine</td>\n",
       "      <td>357473</td>\n",
       "      <td>patil</td>\n",
       "    </tr>\n",
       "    <tr>\n",
       "      <th>2</th>\n",
       "      <td>sudh</td>\n",
       "      <td>anki@gmsil.com</td>\n",
       "      <td>pinr</td>\n",
       "      <td>789543</td>\n",
       "      <td>kulkarni</td>\n",
       "    </tr>\n",
       "  </tbody>\n",
       "</table>\n",
       "</div>"
      ],
      "text/plain": [
       "    name           emailid address  pin code   surname\n",
       "0   anki  yetale@gmail.com    pune    234567    yetale\n",
       "1  anuja  anki89@gmail.com    pine    357473     patil\n",
       "2   sudh    anki@gmsil.com    pinr    789543  kulkarni"
      ]
     },
     "execution_count": 9,
     "metadata": {},
     "output_type": "execute_result"
    }
   ],
   "source": [
    "pd.read_csv('sample.test.csv')"
   ]
  },
  {
   "cell_type": "code",
   "execution_count": 11,
   "id": "9391de80",
   "metadata": {},
   "outputs": [
    {
     "data": {
      "text/html": [
       "<div>\n",
       "<style scoped>\n",
       "    .dataframe tbody tr th:only-of-type {\n",
       "        vertical-align: middle;\n",
       "    }\n",
       "\n",
       "    .dataframe tbody tr th {\n",
       "        vertical-align: top;\n",
       "    }\n",
       "\n",
       "    .dataframe thead th {\n",
       "        text-align: right;\n",
       "    }\n",
       "</style>\n",
       "<table border=\"1\" class=\"dataframe\">\n",
       "  <thead>\n",
       "    <tr style=\"text-align: right;\">\n",
       "      <th></th>\n",
       "      <th></th>\n",
       "      <th>shwetsa</th>\n",
       "      <th>shwet</th>\n",
       "      <th>shan</th>\n",
       "    </tr>\n",
       "  </thead>\n",
       "  <tbody>\n",
       "    <tr>\n",
       "      <th>name</th>\n",
       "      <th>emailid</th>\n",
       "      <td>address</td>\n",
       "      <td>pin code</td>\n",
       "      <td>surname</td>\n",
       "    </tr>\n",
       "    <tr>\n",
       "      <th>anki</th>\n",
       "      <th>yetale@gmail.com</th>\n",
       "      <td>pune</td>\n",
       "      <td>234567</td>\n",
       "      <td>yetale</td>\n",
       "    </tr>\n",
       "    <tr>\n",
       "      <th>anuja</th>\n",
       "      <th>anki89@gmail.com</th>\n",
       "      <td>pine</td>\n",
       "      <td>357473</td>\n",
       "      <td>patil</td>\n",
       "    </tr>\n",
       "    <tr>\n",
       "      <th>sudh</th>\n",
       "      <th>anki@gmsil.com</th>\n",
       "      <td>pinr</td>\n",
       "      <td>789543</td>\n",
       "      <td>kulkarni</td>\n",
       "    </tr>\n",
       "  </tbody>\n",
       "</table>\n",
       "</div>"
      ],
      "text/plain": [
       "                        shwetsa     shwet      shan\n",
       "name  emailid           address  pin code   surname\n",
       "anki  yetale@gmail.com     pune    234567    yetale\n",
       "anuja anki89@gmail.com     pine    357473     patil\n",
       "sudh  anki@gmsil.com       pinr    789543  kulkarni"
      ]
     },
     "execution_count": 11,
     "metadata": {},
     "output_type": "execute_result"
    }
   ],
   "source": [
    "pd.read_csv('sample.test.csv',names=['shwetsa','shwet','shan'])"
   ]
  },
  {
   "cell_type": "code",
   "execution_count": 13,
   "id": "2e8f9254",
   "metadata": {},
   "outputs": [
    {
     "data": {
      "text/html": [
       "<div>\n",
       "<style scoped>\n",
       "    .dataframe tbody tr th:only-of-type {\n",
       "        vertical-align: middle;\n",
       "    }\n",
       "\n",
       "    .dataframe tbody tr th {\n",
       "        vertical-align: top;\n",
       "    }\n",
       "\n",
       "    .dataframe thead th {\n",
       "        text-align: right;\n",
       "    }\n",
       "</style>\n",
       "<table border=\"1\" class=\"dataframe\">\n",
       "  <thead>\n",
       "    <tr style=\"text-align: right;\">\n",
       "      <th></th>\n",
       "      <th>name,emailid,address,pin code,surname</th>\n",
       "    </tr>\n",
       "  </thead>\n",
       "  <tbody>\n",
       "    <tr>\n",
       "      <th>anki,yetale</th>\n",
       "      <td>gmail.com,pune,234567,yetale</td>\n",
       "    </tr>\n",
       "    <tr>\n",
       "      <th>anuja,anki89</th>\n",
       "      <td>gmail.com,pine,357473,patil</td>\n",
       "    </tr>\n",
       "    <tr>\n",
       "      <th>sudh,anki</th>\n",
       "      <td>gmsil.com,pinr,789543,kulkarni</td>\n",
       "    </tr>\n",
       "  </tbody>\n",
       "</table>\n",
       "</div>"
      ],
      "text/plain": [
       "             name,emailid,address,pin code,surname\n",
       "anki,yetale           gmail.com,pune,234567,yetale\n",
       "anuja,anki89           gmail.com,pine,357473,patil\n",
       "sudh,anki           gmsil.com,pinr,789543,kulkarni"
      ]
     },
     "execution_count": 13,
     "metadata": {},
     "output_type": "execute_result"
    }
   ],
   "source": [
    "pd.read_csv('sample.test.csv',sep='@')"
   ]
  },
  {
   "cell_type": "code",
   "execution_count": null,
   "id": "77d6f400",
   "metadata": {},
   "outputs": [],
   "source": []
  }
 ],
 "metadata": {
  "kernelspec": {
   "display_name": "Python 3 (ipykernel)",
   "language": "python",
   "name": "python3"
  },
  "language_info": {
   "codemirror_mode": {
    "name": "ipython",
    "version": 3
   },
   "file_extension": ".py",
   "mimetype": "text/x-python",
   "name": "python",
   "nbconvert_exporter": "python",
   "pygments_lexer": "ipython3",
   "version": "3.9.13"
  }
 },
 "nbformat": 4,
 "nbformat_minor": 5
}
